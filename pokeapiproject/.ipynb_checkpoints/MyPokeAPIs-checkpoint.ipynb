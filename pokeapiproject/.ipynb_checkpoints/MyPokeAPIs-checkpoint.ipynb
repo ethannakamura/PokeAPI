{
 "cells": [
  {
   "cell_type": "markdown",
   "id": "1e4b8df5",
   "metadata": {},
   "source": [
    "Posted Dec 3 (Edited 3:39 PM)\n",
    "Assigned\n",
    "POKEMON API\n",
    "Retrieve a list of Pokemon's name, abilities, types, and weight from the PokeAPI\n",
    " https://pokeapi.co/\n",
    "\n",
    "Make 20 Pokemon\n",
    "\n",
    "Whenever you need to create a POKEMON, you need to construct your Pokemon through data from the API: https://pokeapi.co/\n",
    "\n",
    "Below is an example of how your Pokemon should be categorized: by Type.\n",
    "Create a dictionary\n",
    "{\n",
    "'Fire': {\n",
    "'charizard': {\n",
    "'abilities': [],\n",
    "'weight': ,\n",
    "},\n",
    "'pokemon': {\n",
    "'abilities': [],\n",
    "'weight': ,\n",
    "}\n",
    "},\n",
    "'Flying':,\n",
    "'Water':\n",
    "}\n",
    "\n",
    "When you're done, create a GitHub repository for your assignment and save the repository link as the assignment.\n",
    "\n",
    "pokemon = {\n",
    "    'name': 'insert my name here',\n",
    "    'abilities': ['roar','tailwhip','etc'],\n",
    "    'weight': 45,\n",
    "    'types': []"
   ]
  },
  {
   "cell_type": "code",
   "execution_count": 4,
   "id": "8b0baf2e",
   "metadata": {},
   "outputs": [
    {
     "name": "stdout",
     "output_type": "stream",
     "text": [
      "200\n"
     ]
    }
   ],
   "source": [
    "import requests as r\n",
    "lugia = r.get(\"https://pokeapi.co/api/v2/pokemon/lugia\")\n",
    "print(lugia.status_code)"
   ]
  },
  {
   "cell_type": "code",
   "execution_count": 7,
   "id": "16b74d26",
   "metadata": {},
   "outputs": [
    {
     "name": "stdout",
     "output_type": "stream",
     "text": [
      "{'name': 'lugia', 'abilities': ['pressure', 'multiscale'], 'weight': 2160, 'types': ['psychic', 'flying']}\n"
     ]
    }
   ],
   "source": [
    "if lugia.status_code == 200:\n",
    "    pokedex = lugia.json()\n",
    "    #print(pokedex)\n",
    "    lugiapokedex = {}\n",
    "    \n",
    "    lugiapokedex[\"name\"] = pokedex['name'] #value\n",
    "    \n",
    "    lugiaattacks = [] # write a list if it has more than one ability\n",
    "    \n",
    "    lugiatypes = []\n",
    "    \n",
    "    for ability in pokedex['abilities']:\n",
    "        lugiaattacks.append(ability['ability']['name'])\n",
    "        lugiapokedex['abilities'] = lugiaattacks \n",
    "        \n",
    "    lugiapokedex['weight'] = pokedex['weight']\n",
    "    \n",
    "    for types in pokedex['types']:\n",
    "        lugiatypes.append(types['type']['name'])\n",
    "        lugiapokedex['types'] = lugiatypes\n",
    "    \n",
    "    print(lugiapokedex)"
   ]
  },
  {
   "cell_type": "code",
   "execution_count": null,
   "id": "b9a58d29",
   "metadata": {},
   "outputs": [],
   "source": []
  },
  {
   "cell_type": "code",
   "execution_count": null,
   "id": "f007d06c",
   "metadata": {},
   "outputs": [],
   "source": []
  }
 ],
 "metadata": {
  "kernelspec": {
   "display_name": "Python 3",
   "language": "python",
   "name": "python3"
  },
  "language_info": {
   "codemirror_mode": {
    "name": "ipython",
    "version": 3
   },
   "file_extension": ".py",
   "mimetype": "text/x-python",
   "name": "python",
   "nbconvert_exporter": "python",
   "pygments_lexer": "ipython3",
   "version": "3.8.8"
  }
 },
 "nbformat": 4,
 "nbformat_minor": 5
}
