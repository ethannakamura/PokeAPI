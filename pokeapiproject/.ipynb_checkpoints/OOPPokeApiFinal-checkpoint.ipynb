{
 "cells": [
  {
   "cell_type": "code",
   "execution_count": 1,
   "id": "2e388ef9",
   "metadata": {},
   "outputs": [
    {
     "name": "stdout",
     "output_type": "stream",
     "text": [
      "{'name': None, 'types': [], 'abilities': [], 'weight': None}\n",
      "lugia's pokedex information has been updated! {'name': ('lugia',), 'types': (['psychic', 'flying'],), 'abilities': (['pressure', 'multiscale'],), 'weight': 2160}\n",
      "<__main__.Pokemon object at 0x7fa1f07fb9d0>\n"
     ]
    }
   ],
   "source": [
    "#takes name and make api call filling in attributes what Sam has in his real world code*\n",
    "class Pokemon:\n",
    "    def __init__(self):\n",
    "        self.name = None\n",
    "        self.types = []\n",
    "        self.abilities = []\n",
    "        self.weight = None\n",
    "\n",
    "    def pokeapicall(self, pokeName):\n",
    "        import requests as r\n",
    "        req = r.get(f'https://pokeapi.co/api/v2/pokemon/{pokeName}')\n",
    "        if req.status_code == 200:\n",
    "            api = req.json()\n",
    "        else:\n",
    "            print('Ran into error: {req.status_code}')\n",
    "              # send back the error code if something went wrong\n",
    "            return \n",
    "   \n",
    "        self.name = api['name'],\n",
    "        self.types =  [x['type']['name'] for x in api['types']],\n",
    "        self.abilities = [x['ability']['name'] for x in api['abilities']],\n",
    "        self.weight = api['weight']\n",
    "        print(f\"{pokeName}'s pokedex information has been updated! {self.__dict__}\")\n",
    "    \n",
    "lugia = Pokemon() #instantiates lugia\n",
    "print(lugia.__dict__)\n",
    "lugia.pokeapicall('lugia')\n",
    "#lugia is the value we're providing for self of pokefunct\n",
    "print(lugia)"
   ]
  },
  {
   "cell_type": "code",
   "execution_count": 2,
   "id": "aec1d68d",
   "metadata": {},
   "outputs": [
    {
     "name": "stdout",
     "output_type": "stream",
     "text": [
      "lugia's pokedex information has been updated! {'name': ('lugia',), 'types': (['psychic', 'flying'],), 'abilities': (['pressure', 'multiscale'],), 'weight': 2160}\n",
      "zapdos's pokedex information has been updated! {'name': ('zapdos',), 'types': (['electric', 'flying'],), 'abilities': (['pressure', 'static'],), 'weight': 526}\n",
      "articuno's pokedex information has been updated! {'name': ('articuno',), 'types': (['ice', 'flying'],), 'abilities': (['pressure', 'snow-cloak'],), 'weight': 554}\n",
      "entei's pokedex information has been updated! {'name': ('entei',), 'types': (['fire'],), 'abilities': (['pressure', 'inner-focus'],), 'weight': 1980}\n",
      "mew's pokedex information has been updated! {'name': ('mew',), 'types': (['psychic'],), 'abilities': (['synchronize'],), 'weight': 40}\n",
      "mewtwo's pokedex information has been updated! {'name': ('mewtwo',), 'types': (['psychic'],), 'abilities': (['pressure', 'unnerve'],), 'weight': 1220}\n",
      "moltres's pokedex information has been updated! {'name': ('moltres',), 'types': (['fire', 'flying'],), 'abilities': (['pressure', 'flame-body'],), 'weight': 600}\n",
      "raikou's pokedex information has been updated! {'name': ('raikou',), 'types': (['electric'],), 'abilities': (['pressure', 'inner-focus'],), 'weight': 1780}\n",
      "suicune's pokedex information has been updated! {'name': ('suicune',), 'types': (['water'],), 'abilities': (['pressure', 'inner-focus'],), 'weight': 1870}\n",
      "ho-oh's pokedex information has been updated! {'name': ('ho-oh',), 'types': (['fire', 'flying'],), 'abilities': (['pressure', 'regenerator'],), 'weight': 1990}\n",
      "regirock's pokedex information has been updated! {'name': ('regirock',), 'types': (['rock'],), 'abilities': (['clear-body', 'sturdy'],), 'weight': 2300}\n",
      "regice's pokedex information has been updated! {'name': ('regice',), 'types': (['ice'],), 'abilities': (['clear-body', 'ice-body'],), 'weight': 1750}\n",
      "registeel's pokedex information has been updated! {'name': ('registeel',), 'types': (['steel'],), 'abilities': (['clear-body', 'light-metal'],), 'weight': 2050}\n",
      "latias's pokedex information has been updated! {'name': ('latias',), 'types': (['dragon', 'psychic'],), 'abilities': (['levitate'],), 'weight': 400}\n",
      "latios's pokedex information has been updated! {'name': ('latios',), 'types': (['dragon', 'psychic'],), 'abilities': (['levitate'],), 'weight': 600}\n",
      "kyogre's pokedex information has been updated! {'name': ('kyogre',), 'types': (['water'],), 'abilities': (['drizzle'],), 'weight': 3520}\n",
      "groudon's pokedex information has been updated! {'name': ('groudon',), 'types': (['ground'],), 'abilities': (['drought'],), 'weight': 9500}\n",
      "rayquaza's pokedex information has been updated! {'name': ('rayquaza',), 'types': (['dragon', 'flying'],), 'abilities': (['air-lock'],), 'weight': 2065}\n",
      "pikachu's pokedex information has been updated! {'name': ('pikachu',), 'types': (['electric'],), 'abilities': (['static', 'lightning-rod'],), 'weight': 60}\n",
      "spheal's pokedex information has been updated! {'name': ('spheal',), 'types': (['ice', 'water'],), 'abilities': (['thick-fat', 'ice-body', 'oblivious'],), 'weight': 395}\n"
     ]
    },
    {
     "data": {
      "text/plain": [
       "{'lugia': <__main__.Pokemon at 0x7fa1c01ce880>,\n",
       " 'zapdos': <__main__.Pokemon at 0x7fa1c01cea00>,\n",
       " 'articuno': <__main__.Pokemon at 0x7fa1c01cedf0>,\n",
       " 'entei': <__main__.Pokemon at 0x7fa1c01cefd0>,\n",
       " 'mew': <__main__.Pokemon at 0x7fa1c01cec40>,\n",
       " 'mewtwo': <__main__.Pokemon at 0x7fa1c01ce8e0>,\n",
       " 'moltres': <__main__.Pokemon at 0x7fa1c01cee50>,\n",
       " 'raikou': <__main__.Pokemon at 0x7fa1c01ceb80>,\n",
       " 'suicune': <__main__.Pokemon at 0x7fa1c01ceb20>,\n",
       " 'ho-oh': <__main__.Pokemon at 0x7fa1c01cedc0>,\n",
       " 'regirock': <__main__.Pokemon at 0x7fa1c01ceca0>,\n",
       " 'regice': <__main__.Pokemon at 0x7fa1c01cea90>,\n",
       " 'registeel': <__main__.Pokemon at 0x7fa1c01cecd0>,\n",
       " 'latias': <__main__.Pokemon at 0x7fa1c01a0df0>,\n",
       " 'latios': <__main__.Pokemon at 0x7fa1c01cef40>,\n",
       " 'kyogre': <__main__.Pokemon at 0x7fa1c01a0e50>,\n",
       " 'groudon': <__main__.Pokemon at 0x7fa1c01cee80>,\n",
       " 'rayquaza': <__main__.Pokemon at 0x7fa1c01cefa0>,\n",
       " 'pikachu': <__main__.Pokemon at 0x7fa1f07f6dc0>,\n",
       " 'spheal': <__main__.Pokemon at 0x7fa1c01cec10>}"
      ]
     },
     "execution_count": 2,
     "metadata": {},
     "output_type": "execute_result"
    }
   ],
   "source": [
    "pokemon = ['lugia', 'zapdos', 'articuno', 'entei','mew','mewtwo','moltres','raikou','suicune','ho-oh','regirock','regice','registeel','latias','latios','kyogre','groudon','rayquaza','pikachu','spheal']\n",
    "\n",
    "#dictionry of structure {name: object,}\n",
    "poke = {}\n",
    "for name in pokemon:\n",
    "    new = Pokemon() #instantiate a new pokemon\n",
    "    new.pokeapicall(name) #fill that pokemon's info based on the provided name\n",
    "    #poke.append(new)\n",
    "    poke[name]= new \n",
    "poke"
   ]
  },
  {
   "cell_type": "code",
   "execution_count": 3,
   "id": "ac616e38",
   "metadata": {},
   "outputs": [
    {
     "ename": "IndentationError",
     "evalue": "expected an indented block (<ipython-input-3-adbdf2d21897>, line 3)",
     "output_type": "error",
     "traceback": [
      "\u001b[0;36m  File \u001b[0;32m\"<ipython-input-3-adbdf2d21897>\"\u001b[0;36m, line \u001b[0;32m3\u001b[0m\n\u001b[0;31m    def ele(self):\u001b[0m\n\u001b[0m    ^\u001b[0m\n\u001b[0;31mIndentationError\u001b[0m\u001b[0;31m:\u001b[0m expected an indented block\n"
     ]
    }
   ],
   "source": [
    "    def pokemname(self):\n",
    "\n",
    "    def pokemtypes(self):\n",
    "\n",
    "    def pokemabili(self):  \n"
   ]
  },
  {
   "cell_type": "code",
   "execution_count": null,
   "id": "0defd84c",
   "metadata": {},
   "outputs": [],
   "source": [
    "class Catch:\n",
    "    def emall():\n",
    "        print(\"\"\"\n",
    "Welcome Young Trainer!\n",
    "Which type of Pokemon would you like to try and catch?\n",
    "[1] Flying\n",
    "[2] Electric\n",
    "[3] Fire\n",
    "[4] Water\n",
    "[5] Psychic\n",
    "        \"\"\")\n",
    "\n",
    "    def run():\n",
    "        Catch.emall()\n",
    "        masterball = Pokedex()\n",
    "        while True:\n",
    "            choice = input('Pick a pokemon type that you want to catch!')\n",
    "            if choice == '1':\n",
    "                masterball.fly()\n",
    "            elif choice == '2':\n",
    "                masterball.ele()\n",
    "            elif choice == '3':\n",
    "                masterball.fir()\n",
    "            elif choice == '4':\n",
    "                masterball.wat()\n",
    "            elif choice == '5':\n",
    "                masterball.psy()\n",
    "            else:\n",
    "                print(\"Don't you want to go catch your first Pokemon? Type in '1' - '5'\")\n",
    "\n",
    "Catch.run()\n",
    "\n",
    "# WHAT TO DO WITH POKEMON PROJECT:\n",
    "#could ask a nice describe or show method to add onto pokemon class to describe pokemon attributes/details etc.\n",
    "\n",
    "#shopping cart style program? user telling me to build a pokemon team or catching a pokemon!\n",
    "#turn pokemon object that uses api calls into a shopping cart program\n",
    "    # need to ask user for input\n",
    "    # ask which pokemon they want to create\n",
    "\n",
    "#checkout what other endpoint the pokeapi has to offer\n",
    "    #they have a region endpoint\n",
    "    #build a list of pokemon names from the pokedex endpoint\n",
    "    #use that list of pokemon names in my repeatable pokemon obj creation\n",
    "    #wind up with a massive list of pokemon\n",
    "    #endpoint will be slower the more calls you have to make for a list of pokemon\n",
    "\n",
    "#turn toward more user searching our pokemon lists - build functions for diff types of search:\n",
    "    # user can press 1 to search by name\n",
    "    # user can press 2 to search by type\n",
    "        #have a fucntion that loops through pokemon and figure out if they have the right type"
   ]
  }
 ],
 "metadata": {
  "kernelspec": {
   "display_name": "Python 3",
   "language": "python",
   "name": "python3"
  },
  "language_info": {
   "codemirror_mode": {
    "name": "ipython",
    "version": 3
   },
   "file_extension": ".py",
   "mimetype": "text/x-python",
   "name": "python",
   "nbconvert_exporter": "python",
   "pygments_lexer": "ipython3",
   "version": "3.8.8"
  }
 },
 "nbformat": 4,
 "nbformat_minor": 5
}
