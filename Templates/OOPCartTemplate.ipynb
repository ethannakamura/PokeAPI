{
 "cells": [
  {
   "cell_type": "code",
   "execution_count": null,
   "id": "9c159d1c",
   "metadata": {},
   "outputs": [],
   "source": [
    "# Goal: build a shopping cart program with prices and quantities using objects and a dictionary"
   ]
  },
  {
   "cell_type": "code",
   "execution_count": 34,
   "id": "64bc788d",
   "metadata": {},
   "outputs": [],
   "source": [
    "class Player:\n",
    "    def __init__(self, name, number, position, team, cost):\n",
    "        self.name = name\n",
    "        self.number = number\n",
    "        self.position = position\n",
    "        self.team = team\n",
    "        self.cost = cost\n",
    "        \n",
    "    def describe(self):\n",
    "        # potentially create a nice print-out description method for a player\n",
    "        print(f\"{self.position}\\t| {self.number}\\t| {self.name}\\t| {self.team}\\t| {self.cost}\")\n",
    "\n",
    "# this class is just responsible for the cart object and the actions of the cart object\n",
    "class Team:\n",
    "    def __init__(self):\n",
    "        # self.players will be a dictionary in the format:\n",
    "            # key: player name string\n",
    "            # value: player object\n",
    "        self.players = {}\n",
    "        \n",
    "    def add(self):\n",
    "        print('Welcome to the transfer market. Tell us about your new player.')\n",
    "        name = input(\"What is the player's name? \")\n",
    "        number = input(\"What is the player's number? \")\n",
    "        position = input(\"What is the player's position? \")\n",
    "        team = input(\"What team is the player on? \")\n",
    "        cost = input(\"What was the transfer cost of this player? (Numbers only, no commas) \")\n",
    "        try: # handle bad user input of non numbers\n",
    "            cost = float(cost)\n",
    "        except:\n",
    "            print('There was a problem with your new player.')\n",
    "            return\n",
    "        # instantiate the player based on the information given\n",
    "        newplayer = Player(name, number, position, team, cost)\n",
    "        self.players[name] = newplayer\n",
    "        print(f'{newplayer.name} has been added to your team.\\n')\n",
    "    \n",
    "    def remove(self):\n",
    "        r = input('Who would you like to transferred? (capitalization matters) ')\n",
    "        try:\n",
    "            del self.players[r]\n",
    "            print(f'{r} was successfully transferred.\\n')\n",
    "        except:\n",
    "            print(f'{r} was not on your team.\\n')\n",
    "    \n",
    "    def show(self):\n",
    "        print(f'\\nYour current players:')\n",
    "        for player in self.players:\n",
    "            self.players[player].describe()\n",
    "    \n",
    "    def checkout(self):\n",
    "        if not self.players:\n",
    "            print('Hire some players gosh.')\n",
    "        else:\n",
    "            print('Good luck this season!')\n",
    "            self.show()\n",
    "\n",
    "# control the logic and flow/operation of our overall program\n",
    "class Main:\n",
    "    def showInstructions():\n",
    "        print(\"\"\"\n",
    "Welcome to Sam's Shopping Program.\n",
    "Options:\n",
    "[1] Show Current Team\n",
    "[2] Add Player\n",
    "[3] Remove Player\n",
    "[4] Quit\n",
    "        \"\"\")\n",
    "    \n",
    "    # driver code - responsible for actually calling all of my functions\n",
    "    def run():\n",
    "        Main.showInstructions()\n",
    "        myteam = Team()\n",
    "        while True:\n",
    "            choice = input('What would you like to do? ')\n",
    "            if choice == '1':\n",
    "                if myteam.players == {}:\n",
    "                    print('Your team has no players, you have nothing to show.\\n')\n",
    "                else:\n",
    "                    myteam.show()\n",
    "            elif choice == '2':\n",
    "                myteam.add()\n",
    "            elif choice == '3':\n",
    "                if myteam.players == {}:\n",
    "                    print('Your team has no players, you have no one to transfer.\\n')\n",
    "                else:\n",
    "                    myteam.remove()\n",
    "            elif choice == '4':\n",
    "                myteam.checkout() # Team.checkout(myteam) <team_class.checkoutmethod(self=myteam)>\n",
    "                break\n",
    "            else:\n",
    "                print('Invalid input, please try again.')"
   ]
  },
  {
   "cell_type": "code",
   "execution_count": 35,
   "id": "5ff8d2a6",
   "metadata": {},
   "outputs": [
    {
     "name": "stdout",
     "output_type": "stream",
     "text": [
      "\n",
      "Welcome to Sam's Shopping Program.\n",
      "Options:\n",
      "[1] Show Current Team\n",
      "[2] Add Player\n",
      "[3] Remove Player\n",
      "[4] Quit\n",
      "        \n",
      "What would you like to do? 1\n",
      "Your team has no players, you have nothing to show.\n",
      "\n",
      "What would you like to do? 4\n",
      "Hire some players gosh.\n"
     ]
    }
   ],
   "source": [
    "Main.run()"
   ]
  },
  {
   "cell_type": "code",
   "execution_count": 3,
   "id": "25554482",
   "metadata": {},
   "outputs": [
    {
     "data": {
      "text/plain": [
       "{'name': 'Joao Cancelo',\n",
       " 'number': 27,\n",
       " 'position': 'RB/LB',\n",
       " 'team': 'Manchester City',\n",
       " 'cost': '€65m'}"
      ]
     },
     "execution_count": 3,
     "metadata": {},
     "output_type": "execute_result"
    }
   ],
   "source": [
    "joao = Player('Joao Cancelo', 27, 'RB/LB', 'Manchester City', '€65m')\n",
    "joao.__dict__"
   ]
  },
  {
   "cell_type": "code",
   "execution_count": null,
   "id": "bc3e0535",
   "metadata": {},
   "outputs": [],
   "source": [
    "{'<Player_Name>': <Player_OBJECT>, '<Name>': <Player_OBJECT>}"
   ]
  },
  {
   "cell_type": "code",
   "execution_count": null,
   "id": "305454ca",
   "metadata": {},
   "outputs": [],
   "source": []
  },
  {
   "cell_type": "code",
   "execution_count": 1,
   "id": "46d80f61",
   "metadata": {},
   "outputs": [
    {
     "name": "stdout",
     "output_type": "stream",
     "text": [
      "\n",
      "Welcome to Sam's Shopping Program.\n",
      "Options:\n",
      "[1] Show Current Cart\n",
      "[2] Add Item\n",
      "[3] Remove Item\n",
      "[4] Quit\n",
      "        \n"
     ]
    },
    {
     "ename": "KeyboardInterrupt",
     "evalue": "Interrupted by user",
     "output_type": "error",
     "traceback": [
      "\u001b[1;31m---------------------------------------------------------------------------\u001b[0m",
      "\u001b[1;31mKeyboardInterrupt\u001b[0m                         Traceback (most recent call last)",
      "\u001b[1;32m<ipython-input-1-82d0deab775f>\u001b[0m in \u001b[0;36m<module>\u001b[1;34m\u001b[0m\n\u001b[0;32m     69\u001b[0m                 \u001b[0mprint\u001b[0m\u001b[1;33m(\u001b[0m\u001b[1;34m'Invalid input, please try again.'\u001b[0m\u001b[1;33m)\u001b[0m\u001b[1;33m\u001b[0m\u001b[1;33m\u001b[0m\u001b[0m\n\u001b[0;32m     70\u001b[0m \u001b[1;33m\u001b[0m\u001b[0m\n\u001b[1;32m---> 71\u001b[1;33m \u001b[0mMain\u001b[0m\u001b[1;33m.\u001b[0m\u001b[0mrun\u001b[0m\u001b[1;33m(\u001b[0m\u001b[1;33m)\u001b[0m\u001b[1;33m\u001b[0m\u001b[1;33m\u001b[0m\u001b[0m\n\u001b[0m",
      "\u001b[1;32m<ipython-input-1-82d0deab775f>\u001b[0m in \u001b[0;36mrun\u001b[1;34m()\u001b[0m\n\u001b[0;32m     50\u001b[0m         \u001b[0mmycart\u001b[0m \u001b[1;33m=\u001b[0m \u001b[0mCart\u001b[0m\u001b[1;33m(\u001b[0m\u001b[1;33m)\u001b[0m\u001b[1;33m\u001b[0m\u001b[1;33m\u001b[0m\u001b[0m\n\u001b[0;32m     51\u001b[0m         \u001b[1;32mwhile\u001b[0m \u001b[1;32mTrue\u001b[0m\u001b[1;33m:\u001b[0m\u001b[1;33m\u001b[0m\u001b[1;33m\u001b[0m\u001b[0m\n\u001b[1;32m---> 52\u001b[1;33m             \u001b[0mchoice\u001b[0m \u001b[1;33m=\u001b[0m \u001b[0minput\u001b[0m\u001b[1;33m(\u001b[0m\u001b[1;34m'What would you like to do? '\u001b[0m\u001b[1;33m)\u001b[0m\u001b[1;33m\u001b[0m\u001b[1;33m\u001b[0m\u001b[0m\n\u001b[0m\u001b[0;32m     53\u001b[0m             \u001b[1;32mif\u001b[0m \u001b[0mchoice\u001b[0m \u001b[1;33m==\u001b[0m \u001b[1;34m'1'\u001b[0m\u001b[1;33m:\u001b[0m\u001b[1;33m\u001b[0m\u001b[1;33m\u001b[0m\u001b[0m\n\u001b[0;32m     54\u001b[0m                 \u001b[1;32mif\u001b[0m \u001b[0mmycart\u001b[0m\u001b[1;33m.\u001b[0m\u001b[0mitems\u001b[0m \u001b[1;33m==\u001b[0m \u001b[1;33m[\u001b[0m\u001b[1;33m]\u001b[0m\u001b[1;33m:\u001b[0m\u001b[1;33m\u001b[0m\u001b[1;33m\u001b[0m\u001b[0m\n",
      "\u001b[1;32mC:\\ProgramData\\Anaconda3\\lib\\site-packages\\ipykernel\\kernelbase.py\u001b[0m in \u001b[0;36mraw_input\u001b[1;34m(self, prompt)\u001b[0m\n\u001b[0;32m    858\u001b[0m                 \u001b[1;34m\"raw_input was called, but this frontend does not support input requests.\"\u001b[0m\u001b[1;33m\u001b[0m\u001b[1;33m\u001b[0m\u001b[0m\n\u001b[0;32m    859\u001b[0m             )\n\u001b[1;32m--> 860\u001b[1;33m         return self._input_request(str(prompt),\n\u001b[0m\u001b[0;32m    861\u001b[0m             \u001b[0mself\u001b[0m\u001b[1;33m.\u001b[0m\u001b[0m_parent_ident\u001b[0m\u001b[1;33m,\u001b[0m\u001b[1;33m\u001b[0m\u001b[1;33m\u001b[0m\u001b[0m\n\u001b[0;32m    862\u001b[0m             \u001b[0mself\u001b[0m\u001b[1;33m.\u001b[0m\u001b[0m_parent_header\u001b[0m\u001b[1;33m,\u001b[0m\u001b[1;33m\u001b[0m\u001b[1;33m\u001b[0m\u001b[0m\n",
      "\u001b[1;32mC:\\ProgramData\\Anaconda3\\lib\\site-packages\\ipykernel\\kernelbase.py\u001b[0m in \u001b[0;36m_input_request\u001b[1;34m(self, prompt, ident, parent, password)\u001b[0m\n\u001b[0;32m    902\u001b[0m             \u001b[1;32mexcept\u001b[0m \u001b[0mKeyboardInterrupt\u001b[0m\u001b[1;33m:\u001b[0m\u001b[1;33m\u001b[0m\u001b[1;33m\u001b[0m\u001b[0m\n\u001b[0;32m    903\u001b[0m                 \u001b[1;31m# re-raise KeyboardInterrupt, to truncate traceback\u001b[0m\u001b[1;33m\u001b[0m\u001b[1;33m\u001b[0m\u001b[1;33m\u001b[0m\u001b[0m\n\u001b[1;32m--> 904\u001b[1;33m                 \u001b[1;32mraise\u001b[0m \u001b[0mKeyboardInterrupt\u001b[0m\u001b[1;33m(\u001b[0m\u001b[1;34m\"Interrupted by user\"\u001b[0m\u001b[1;33m)\u001b[0m \u001b[1;32mfrom\u001b[0m \u001b[1;32mNone\u001b[0m\u001b[1;33m\u001b[0m\u001b[1;33m\u001b[0m\u001b[0m\n\u001b[0m\u001b[0;32m    905\u001b[0m             \u001b[1;32mexcept\u001b[0m \u001b[0mException\u001b[0m \u001b[1;32mas\u001b[0m \u001b[0me\u001b[0m\u001b[1;33m:\u001b[0m\u001b[1;33m\u001b[0m\u001b[1;33m\u001b[0m\u001b[0m\n\u001b[0;32m    906\u001b[0m                 \u001b[0mself\u001b[0m\u001b[1;33m.\u001b[0m\u001b[0mlog\u001b[0m\u001b[1;33m.\u001b[0m\u001b[0mwarning\u001b[0m\u001b[1;33m(\u001b[0m\u001b[1;34m\"Invalid Message:\"\u001b[0m\u001b[1;33m,\u001b[0m \u001b[0mexc_info\u001b[0m\u001b[1;33m=\u001b[0m\u001b[1;32mTrue\u001b[0m\u001b[1;33m)\u001b[0m\u001b[1;33m\u001b[0m\u001b[1;33m\u001b[0m\u001b[0m\n",
      "\u001b[1;31mKeyboardInterrupt\u001b[0m: Interrupted by user"
     ]
    }
   ],
   "source": [
    "# Create a class called cart that retains items and has methods to add, remove, and show\n",
    "\n",
    "# this class is just responsible for the cart object and the actions of the cart object\n",
    "class Cart():\n",
    "    def __init__(self):\n",
    "        self.items = []\n",
    "        \n",
    "    def add(self):\n",
    "        newitem = input('What would you like to add to your cart? ')\n",
    "        self.items.append(newitem)\n",
    "        print(f'{newitem} has been added to your cart.\\n')\n",
    "    \n",
    "    def remove(self):\n",
    "        remov = input('What would you like to remove from your cart? (capitalization matters)')\n",
    "        try:\n",
    "            self.items.remove(remov)\n",
    "            print(f'{remov} was successfully removed from your cart.\\n')\n",
    "        except:\n",
    "            print(f'{remov} was not in your cart.\\n')\n",
    "    \n",
    "    def show(self):\n",
    "        print(f'Your cart currently contains:\\n{self.items}\\n')\n",
    "    \n",
    "    def checkout(self):\n",
    "        if not self.items:\n",
    "            print('Buy something next time.')\n",
    "        else:\n",
    "            print('Thank you for shopping.')\n",
    "            print(f'Your cart contains:')\n",
    "            for i in range(len(self.items)): # index loop\n",
    "                # i represents an index number\n",
    "                # therefore cart[i] represents a value in the cart\n",
    "                print(f'{i+1} | {self.items[i]}')\n",
    "\n",
    "# control the logic and flow/operation of our overall program\n",
    "class Main:\n",
    "    def showInstructions():\n",
    "        print(\"\"\"\n",
    "Welcome to Sam's Shopping Program.\n",
    "Options:\n",
    "[1] Show Current Cart\n",
    "[2] Add Item\n",
    "[3] Remove Item\n",
    "[4] Quit\n",
    "        \"\"\")\n",
    "    \n",
    "    # driver code - responsible for actually calling all of my functions\n",
    "    def run():\n",
    "        Main.showInstructions()\n",
    "        mycart = Cart()\n",
    "        while True:\n",
    "            choice = input('What would you like to do? ')\n",
    "            if choice == '1':\n",
    "                if mycart.items == []:\n",
    "                    print('Your cart is empty, you have nothing to show.\\n')\n",
    "                else:\n",
    "                    mycart.show()\n",
    "            elif choice == '2':\n",
    "                mycart.add()\n",
    "            elif choice == '3':\n",
    "                if mycart.items == []:\n",
    "                    print('Your cart is empty, you have nothing to remove.\\n')\n",
    "                else:\n",
    "                    mycart.remove()\n",
    "            elif choice == '4':\n",
    "                mycart.checkout()\n",
    "                break\n",
    "            else:\n",
    "                print('Invalid input, please try again.')\n",
    "\n",
    "Main.run()"
   ]
  },
  {
   "cell_type": "code",
   "execution_count": null,
   "id": "0c45252b",
   "metadata": {},
   "outputs": [],
   "source": []
  }
 ],
 "metadata": {
  "kernelspec": {
   "display_name": "Python 3",
   "language": "python",
   "name": "python3"
  },
  "language_info": {
   "codemirror_mode": {
    "name": "ipython",
    "version": 3
   },
   "file_extension": ".py",
   "mimetype": "text/x-python",
   "name": "python",
   "nbconvert_exporter": "python",
   "pygments_lexer": "ipython3",
   "version": "3.8.8"
  }
 },
 "nbformat": 4,
 "nbformat_minor": 5
}
